{
 "cells": [
  {
   "cell_type": "code",
   "execution_count": 1,
   "metadata": {},
   "outputs": [],
   "source": [
    "from osgeo import gdal\n",
    "import numpy as np"
   ]
  },
  {
   "cell_type": "code",
   "execution_count": 2,
   "metadata": {},
   "outputs": [],
   "source": [
    "def calculate_dead_pixel_percentage(band_data):\n",
    "    total_pixels = np.prod(band_data.shape)\n",
    "    dead_pixels = np.count_nonzero(band_data == 0)\n",
    "    return (dead_pixels / total_pixels) * 100"
   ]
  },
  {
   "cell_type": "code",
   "execution_count": 3,
   "metadata": {},
   "outputs": [],
   "source": [
    "def find_bands_with_dead_pixels(image_path, threshold_percentage=50):\n",
    "    dataset = gdal.Open(image_path)\n",
    "\n",
    "    if not dataset:\n",
    "        print(f\"Failed to open the image at {image_path}\")\n",
    "        return\n",
    "\n",
    "    num_bands = dataset.RasterCount\n",
    "\n",
    "    bands_with_dead_pixels = []\n",
    "\n",
    "    for band_num in range(1, num_bands + 1):\n",
    "        band = dataset.GetRasterBand(band_num)\n",
    "        band_data = band.ReadAsArray()\n",
    "\n",
    "        dead_pixel_percentage = calculate_dead_pixel_percentage(band_data)\n",
    "\n",
    "        if dead_pixel_percentage > threshold_percentage:\n",
    "            bands_with_dead_pixels.append(band_num)\n",
    "\n",
    "        band = None  # Close the band to release resources\n",
    "\n",
    "    dataset = None  # Close the dataset to release resources\n",
    "\n",
    "    return bands_with_dead_pixels"
   ]
  },
  {
   "cell_type": "code",
   "execution_count": 5,
   "metadata": {},
   "outputs": [
    {
     "name": "stdout",
     "output_type": "stream",
     "text": [
      "Bands with more than 50% dead pixels: [64, 191, 192, 194]\n"
     ]
    }
   ],
   "source": [
    "# Example usage:\n",
    "image_path = \"filtered_non_zero.tif\"\n",
    "threshold_percentage = 50\n",
    "\n",
    "bands_with_dead_pixels = find_bands_with_dead_pixels(image_path, threshold_percentage)\n",
    "\n",
    "if bands_with_dead_pixels:\n",
    "    print(f\"Bands with more than {threshold_percentage}% dead pixels: {bands_with_dead_pixels}\")\n",
    "else:\n",
    "    print(f\"No bands found with more than {threshold_percentage}% dead pixels.\")"
   ]
  },
  {
   "cell_type": "code",
   "execution_count": 6,
   "metadata": {},
   "outputs": [],
   "source": [
    "def filter_bands_by_dead_pixels(input_path, output_path, threshold_percentage=50):\n",
    "    dataset = gdal.Open(input_path)\n",
    "\n",
    "    if not dataset:\n",
    "        print(f\"Failed to open the image at {input_path}\")\n",
    "        return\n",
    "\n",
    "    num_bands = dataset.RasterCount\n",
    "    selected_bands = []\n",
    "\n",
    "    for band_num in range(1, num_bands + 1):\n",
    "        band = dataset.GetRasterBand(band_num)\n",
    "        band_data = band.ReadAsArray()\n",
    "\n",
    "        dead_pixel_percentage = calculate_dead_pixel_percentage(band_data)\n",
    "\n",
    "        if dead_pixel_percentage <= threshold_percentage:\n",
    "            selected_bands.append(band_num)\n",
    "\n",
    "    if not selected_bands:\n",
    "        print(f\"No bands found with less than or equal to {threshold_percentage}% dead pixels.\")\n",
    "        return\n",
    "\n",
    "    # Create a new dataset with selected bands\n",
    "    driver = gdal.GetDriverByName(\"GTiff\")\n",
    "    output_dataset = driver.Create(output_path, dataset.RasterXSize, dataset.RasterYSize, len(selected_bands), band.DataType)\n",
    "\n",
    "    for i, band_num in enumerate(selected_bands, start=1):\n",
    "        band = dataset.GetRasterBand(band_num)\n",
    "        band_data = band.ReadAsArray()\n",
    "        output_dataset.GetRasterBand(i).WriteArray(band_data)\n",
    "\n",
    "    # Copy geotransform and projection information\n",
    "    output_dataset.SetGeoTransform(dataset.GetGeoTransform())\n",
    "    output_dataset.SetProjection(dataset.GetProjection())\n",
    "\n",
    "    # Close datasets to release resources\n",
    "    dataset = None\n",
    "    output_dataset = None\n"
   ]
  },
  {
   "cell_type": "code",
   "execution_count": 7,
   "metadata": {},
   "outputs": [
    {
     "name": "stdout",
     "output_type": "stream",
     "text": [
      "New TIFF file created with bands having less than or equal to 50% dead pixels: second_filter.tif\n"
     ]
    }
   ],
   "source": [
    "input_image_path = \"filtered_non_zero.tif\"\n",
    "output_image_path = \"second_filter.tif\"\n",
    "threshold_percentage = 50\n",
    "\n",
    "filter_bands_by_dead_pixels(input_image_path, output_image_path, threshold_percentage)\n",
    "print(f\"New TIFF file created with bands having less than or equal to {threshold_percentage}% dead pixels: {output_image_path}\")"
   ]
  }
 ],
 "metadata": {
  "kernelspec": {
   "display_name": "Python 3",
   "language": "python",
   "name": "python3"
  },
  "language_info": {
   "codemirror_mode": {
    "name": "ipython",
    "version": 3
   },
   "file_extension": ".py",
   "mimetype": "text/x-python",
   "name": "python",
   "nbconvert_exporter": "python",
   "pygments_lexer": "ipython3",
   "version": "3.10.0"
  }
 },
 "nbformat": 4,
 "nbformat_minor": 2
}
