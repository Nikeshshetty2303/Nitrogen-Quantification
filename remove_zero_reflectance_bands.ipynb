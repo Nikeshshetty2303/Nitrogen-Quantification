{
 "cells": [
  {
   "cell_type": "code",
   "execution_count": 2,
   "metadata": {},
   "outputs": [],
   "source": [
    "import csv\n",
    "from osgeo import gdal\n",
    "from osgeo.gdalconst import GA_Update"
   ]
  },
  {
   "cell_type": "code",
   "execution_count": 2,
   "metadata": {},
   "outputs": [],
   "source": [
    "def get_max_reflectance_value(image_path, band_index):\n",
    "    # Open the raster dataset\n",
    "    raster_ds = gdal.Open(image_path)\n",
    "\n",
    "    if raster_ds is None:\n",
    "        print(\"Error: Unable to open the raster dataset.\")\n",
    "        return None\n",
    "\n",
    "    try:\n",
    "        # Get the specified band\n",
    "        band = raster_ds.GetRasterBand(band_index)\n",
    "\n",
    "        # Read all pixel values in the band\n",
    "        band_values = band.ReadAsArray()\n",
    "\n",
    "        # Find the maximum reflectance value\n",
    "        max_reflectance = band_values.max()\n",
    "\n",
    "        return max_reflectance\n",
    "\n",
    "    except Exception as e:\n",
    "        print(f\"Error: {e}\")\n",
    "        return None\n",
    "\n",
    "    finally:\n",
    "        # Close the raster dataset to release resources\n",
    "        raster_ds = None"
   ]
  },
  {
   "cell_type": "code",
   "execution_count": 29,
   "metadata": {},
   "outputs": [],
   "source": [
    "\n",
    "def create_tif_with_nonzero_max_reflectance(input_tif, output_tif):\n",
    "    # Open the input TIFF file\n",
    "    input_dataset = gdal.Open(input_tif, gdal.GA_ReadOnly)\n",
    "\n",
    "    if input_dataset is None:\n",
    "        print(f\"Error: Could not open the file {input_tif}\")\n",
    "        return\n",
    "\n",
    "    try:\n",
    "        # Get the number of bands in the TIFF file\n",
    "        num_bands = input_dataset.RasterCount\n",
    "\n",
    "        non_zero_band_indices = []\n",
    "\n",
    "        # Iterate through each band and copy non-zero bands to the new TIFF file\n",
    "        for band_num in range(1, num_bands +1):\n",
    "            max_reflectance = get_max_reflectance_value(input_tif, band_num)\n",
    "\n",
    "            # Check if the band has non-zero maximum reflectance\n",
    "            if max_reflectance != 0.0:\n",
    "                non_zero_band_indices.append(band_num)\n",
    "\n",
    "        # Create a new TIFF file with only non-zero bands\n",
    "        if non_zero_band_indices:\n",
    "            driver = gdal.GetDriverByName(\"GTiff\")\n",
    "            output_dataset = driver.Create(output_tif, input_dataset.RasterXSize,\n",
    "                                           input_dataset.RasterYSize, len(non_zero_band_indices),\n",
    "                                           gdal.GDT_Float32)  # Assuming the data type is Float32\n",
    "\n",
    "            # Iterate through non-zero bands and copy data to the new TIFF file\n",
    "            for new_band_index, original_band_index in enumerate(non_zero_band_indices, start=1):\n",
    "                input_band = input_dataset.GetRasterBand(original_band_index)\n",
    "                output_band = output_dataset.GetRasterBand(new_band_index)\n",
    "\n",
    "                # Copy data from input band to output band\n",
    "                data = input_band.ReadAsArray()\n",
    "                output_band.WriteArray(data)\n",
    "\n",
    "                # Set metadata and other properties if needed\n",
    "                output_band.SetMetadata(input_band.GetMetadata())\n",
    "                output_band.SetDescription(input_band.GetDescription())\n",
    "\n",
    "\n",
    "        print(f\"New TIFF file '{output_tif}' created successfully.\")\n",
    "\n",
    "    except Exception as e:\n",
    "        print(f\"Error: {e}\")\n",
    "\n",
    "    finally:\n",
    "        # Close datasets to release resources\n",
    "        input_dataset = None\n",
    "        output_dataset = None\n"
   ]
  },
  {
   "cell_type": "code",
   "execution_count": null,
   "metadata": {},
   "outputs": [],
   "source": [
    "input_tif_path = \"raw_file.tif\"\n",
    "output_tif_path = \"Filtered_non_zero.tif\"\n",
    "create_tif_with_nonzero_max_reflectance(input_tif_path, output_tif_path)"
   ]
  },
  {
   "cell_type": "code",
   "execution_count": 3,
   "metadata": {},
   "outputs": [
    {
     "data": {
      "text/plain": [
       "239"
      ]
     },
     "execution_count": 3,
     "metadata": {},
     "output_type": "execute_result"
    }
   ],
   "source": [
    "dataset = gdal.Open(\"corrected_raw_file.tif\", gdal.GA_ReadOnly)\n",
    "num_of_band = dataset.RasterCount\n",
    "\n",
    "num_of_band"
   ]
  }
 ],
 "metadata": {
  "kernelspec": {
   "display_name": "Python 3",
   "language": "python",
   "name": "python3"
  },
  "language_info": {
   "codemirror_mode": {
    "name": "ipython",
    "version": 3
   },
   "file_extension": ".py",
   "mimetype": "text/x-python",
   "name": "python",
   "nbconvert_exporter": "python",
   "pygments_lexer": "ipython3",
   "version": "3.10.0"
  }
 },
 "nbformat": 4,
 "nbformat_minor": 2
}
