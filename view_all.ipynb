{
 "cells": [
  {
   "cell_type": "code",
   "execution_count": 2,
   "metadata": {},
   "outputs": [
    {
     "name": "stdout",
     "output_type": "stream",
     "text": [
      "CSV file 'band_breakdown.csv' generated successfully.\n"
     ]
    }
   ],
   "source": [
    "import csv\n",
    "from osgeo import gdal\n",
    "\n",
    "def write_tif_bands_to_csv(tif_file, output_csv):\n",
    "    # Open the TIFF file\n",
    "    dataset = gdal.Open(tif_file, gdal.GA_ReadOnly)\n",
    "\n",
    "    if dataset is None:\n",
    "        print(f\"Error: Could not open the file {tif_file}\")\n",
    "        return\n",
    "\n",
    "    # Get the number of bands in the TIFF file\n",
    "    num_bands = dataset.RasterCount\n",
    "\n",
    "    # Open CSV file for writing\n",
    "    with open(output_csv, 'w', newline='') as csvfile:\n",
    "        csv_writer = csv.writer(csvfile)\n",
    "\n",
    "        # Write header\n",
    "        header = [\"Band\", \"DataType\", \"Minimum\", \"Maximum\", \"NoDataValue\", \"Scale\", \"Offset\"]\n",
    "        csv_writer.writerow(header)\n",
    "\n",
    "        # Iterate through each band and write information to CSV\n",
    "        for band_num in range(1, num_bands + 1):\n",
    "            band = dataset.GetRasterBand(band_num)\n",
    "\n",
    "            # Get band information\n",
    "            band_info = [\n",
    "                band_num,\n",
    "                gdal.GetDataTypeName(band.DataType),\n",
    "                band.GetMinimum(),\n",
    "                band.GetMaximum(),\n",
    "                band.GetNoDataValue(),\n",
    "                band.GetScale(),\n",
    "                band.GetOffset()\n",
    "            ]\n",
    "\n",
    "            # Write band information to CSV\n",
    "            csv_writer.writerow(band_info)\n",
    "\n",
    "    print(f\"CSV file '{output_csv}' generated successfully.\")\n",
    "\n",
    "    # Close the dataset\n",
    "    dataset = None\n",
    "\n",
    "# Example usage\n",
    "tif_file_path = \"raw_file.tif\"\n",
    "output_csv_path = \"band_breakdown.csv\"\n",
    "write_tif_bands_to_csv(tif_file_path, output_csv_path)\n"
   ]
  }
 ],
 "metadata": {
  "kernelspec": {
   "display_name": "Python 3",
   "language": "python",
   "name": "python3"
  },
  "language_info": {
   "codemirror_mode": {
    "name": "ipython",
    "version": 3
   },
   "file_extension": ".py",
   "mimetype": "text/x-python",
   "name": "python",
   "nbconvert_exporter": "python",
   "pygments_lexer": "ipython3",
   "version": "3.10.0"
  }
 },
 "nbformat": 4,
 "nbformat_minor": 2
}
