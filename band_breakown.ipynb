{
 "cells": [
  {
   "cell_type": "code",
   "execution_count": 1,
   "metadata": {},
   "outputs": [],
   "source": [
    "import csv\n",
    "from osgeo import gdal\n",
    "\n",
    "\n",
    "def get_max_reflectance_value(image_path, band_index):\n",
    "    # Open the raster dataset\n",
    "    raster_ds = gdal.Open(image_path)\n",
    "\n",
    "    if raster_ds is None:\n",
    "        print(\"Error: Unable to open the raster dataset.\")\n",
    "        return None\n",
    "\n",
    "    try:\n",
    "        # Get the specified band\n",
    "        band = raster_ds.GetRasterBand(band_index)\n",
    "\n",
    "        # Read all pixel values in the band\n",
    "        band_values = band.ReadAsArray()\n",
    "\n",
    "        # Find the maximum reflectance value\n",
    "        max_reflectance = band_values.max()\n",
    "\n",
    "        return max_reflectance\n",
    "\n",
    "    except Exception as e:\n",
    "        print(f\"Error: {e}\")\n",
    "        return None\n",
    "\n",
    "    finally:\n",
    "        # Close the raster dataset to release resources\n",
    "        raster_ds = None\n",
    "\n"
   ]
  },
  {
   "cell_type": "code",
   "execution_count": 16,
   "metadata": {},
   "outputs": [],
   "source": [
    "def write_tif_bands_to_csv(tif_file, output_csv):\n",
    "    # Open the TIFF file\n",
    "    dataset = gdal.Open(tif_file, gdal.GA_ReadOnly)\n",
    "\n",
    "    if dataset is None:\n",
    "        print(f\"Error: Could not open the file {tif_file}\")\n",
    "        return\n",
    "\n",
    "    # Get the number of bands in the TIFF file\n",
    "    num_bands = dataset.RasterCount\n",
    "\n",
    "    # Open CSV file for writing\n",
    "    with open(output_csv, 'w', newline='') as csvfile:\n",
    "        csv_writer = csv.writer(csvfile)\n",
    "\n",
    "        # Write header\n",
    "        header = [\"Band\", \"DataType\", \"Maximum\"]\n",
    "        csv_writer.writerow(header)\n",
    "\n",
    "        # Iterate through each band and write information to CSV\n",
    "        for band_num in range(1,  num_bands +1):\n",
    "            band = dataset.GetRasterBand(band_num)\n",
    "\n",
    "            # Get band information\n",
    "            band_info = [\n",
    "                band_num,\n",
    "                gdal.GetDataTypeName(band.DataType),\n",
    "                get_max_reflectance_value(tif_file, band_num)\n",
    "            ]\n",
    "\n",
    "            # Write band information to CSV\n",
    "            csv_writer.writerow(band_info)\n",
    "\n",
    "    print(f\"CSV file '{output_csv}' generated successfully.\")\n",
    "\n",
    "    # Close the dataset\n",
    "    dataset = None\n"
   ]
  },
  {
   "cell_type": "code",
   "execution_count": 19,
   "metadata": {},
   "outputs": [
    {
     "name": "stdout",
     "output_type": "stream",
     "text": [
      "CSV file 'band_breakdown.csv' generated successfully.\n"
     ]
    }
   ],
   "source": [
    "# Example usage\n",
    "tif_file_path = \"raw_file.tif\"\n",
    "output_csv_path = \"band_breakdown.csv\"\n",
    "write_tif_bands_to_csv(tif_file_path, output_csv_path)"
   ]
  }
 ],
 "metadata": {
  "kernelspec": {
   "display_name": "Python 3",
   "language": "python",
   "name": "python3"
  },
  "language_info": {
   "codemirror_mode": {
    "name": "ipython",
    "version": 3
   },
   "file_extension": ".py",
   "mimetype": "text/x-python",
   "name": "python",
   "nbconvert_exporter": "python",
   "pygments_lexer": "ipython3",
   "version": "3.10.0"
  }
 },
 "nbformat": 4,
 "nbformat_minor": 2
}
