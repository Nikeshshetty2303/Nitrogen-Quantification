{
 "cells": [
  {
   "cell_type": "code",
   "execution_count": 1,
   "metadata": {},
   "outputs": [
    {
     "name": "stdout",
     "output_type": "stream",
     "text": [
      "rows: 1209 cols: 1326\n"
     ]
    }
   ],
   "source": [
    "from osgeo import gdal\n",
    "from PIL import Image\n",
    "import numpy as np\n",
    "\n",
    "# Path to the .tif file you want to view\n",
    "tif_file = \"second_filter.tif\"\n",
    "\n",
    "# Open the .tif file using GDAL\n",
    "ds = gdal.Open(tif_file)\n",
    "\n",
    "if ds is None:\n",
    "    print(\"Failed to open the TIFF file.\")\n",
    "else:\n",
    "    # Read the image data\n",
    "    num_rows = ds.RasterYSize\n",
    "    num_cols = ds.RasterXSize\n",
    "    band = ds.GetRasterBand(3)\n",
    "    data = band.ReadAsArray()\n",
    "\n",
    "    # Normalize the data to [0, 255] and convert to uint8\n",
    "    normalized_data = ((data - data.min()) / (data.max() - data.min()) * 255).astype(np.uint8)\n",
    "\n",
    "    # Create a Pillow image from the normalized data\n",
    "    img = Image.fromarray(normalized_data)\n",
    "\n",
    "    print(f\"rows: {num_rows} cols: {num_cols}\")\n",
    "\n",
    "    # Display the image\n",
    "    img.show()\n",
    "\n",
    "    # Save the image as PNG\n",
    "    img.save(\"output_image.png\")\n",
    "\n",
    "# Close the dataset\n",
    "ds = None\n"
   ]
  },
  {
   "cell_type": "code",
   "execution_count": 4,
   "metadata": {},
   "outputs": [
    {
     "data": {
      "text/plain": [
       "230"
      ]
     },
     "execution_count": 4,
     "metadata": {},
     "output_type": "execute_result"
    }
   ],
   "source": [
    "dataset = gdal.Open(tif_file, gdal.GA_ReadOnly)\n",
    "num_bands = dataset.RasterCount\n",
    "num_bands"
   ]
  },
  {
   "cell_type": "code",
   "execution_count": 6,
   "metadata": {},
   "outputs": [
    {
     "name": "stdout",
     "output_type": "stream",
     "text": [
      "Number of pixels in band 1: 1603134\n"
     ]
    }
   ],
   "source": [
    "from osgeo import gdal\n",
    "\n",
    "def count_pixels_in_band(image_path, band_number):\n",
    "    try:\n",
    "        # Open the TIFF image using gdal\n",
    "        ds = gdal.Open(image_path)\n",
    "\n",
    "        if ds is None:\n",
    "            raise Exception(f\"Error: Unable to open the image '{image_path}'\")\n",
    "\n",
    "        # Get the specified band\n",
    "        band = ds.GetRasterBand(band_number)\n",
    "\n",
    "        # Get the size of the image (width, height)\n",
    "        width = ds.RasterXSize\n",
    "        height = ds.RasterYSize\n",
    "\n",
    "        # Read the band data\n",
    "        band_data = band.ReadAsArray()\n",
    "\n",
    "        # Calculate the total number of pixels in the band\n",
    "        total_pixels_in_band = width * height\n",
    "\n",
    "        return total_pixels_in_band\n",
    "\n",
    "    except Exception as e:\n",
    "        print(f\"Error: {e}\")\n",
    "        return None\n",
    "\n",
    "# Replace 'your_image.tif' with the path to your TIFF image\n",
    "image_path = 'raw_file.tif'\n",
    "\n",
    "# Specify the band number you want to analyze (1 to 239)\n",
    "band_number_to_analyze = 1\n",
    "\n",
    "pixels_in_band_count = count_pixels_in_band(image_path, band_number_to_analyze)\n",
    "\n",
    "if pixels_in_band_count is not None:\n",
    "    print(f\"Number of pixels in band {band_number_to_analyze}: {pixels_in_band_count}\")\n"
   ]
  }
 ],
 "metadata": {
  "kernelspec": {
   "display_name": "Python 3",
   "language": "python",
   "name": "python3"
  },
  "language_info": {
   "codemirror_mode": {
    "name": "ipython",
    "version": 3
   },
   "file_extension": ".py",
   "mimetype": "text/x-python",
   "name": "python",
   "nbconvert_exporter": "python",
   "pygments_lexer": "ipython3",
   "version": "3.10.0"
  }
 },
 "nbformat": 4,
 "nbformat_minor": 2
}
